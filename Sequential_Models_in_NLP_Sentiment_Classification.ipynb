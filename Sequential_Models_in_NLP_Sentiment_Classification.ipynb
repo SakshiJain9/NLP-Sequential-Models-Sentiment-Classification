{
  "nbformat": 4,
  "nbformat_minor": 0,
  "metadata": {
    "colab": {
      "name": "Sequential Models in NLP - Sentiment Classification.ipynb",
      "provenance": []
    },
    "kernelspec": {
      "name": "python3",
      "display_name": "Python 3"
    },
    "accelerator": "GPU"
  },
  "cells": [
    {
      "cell_type": "markdown",
      "metadata": {
        "id": "k4cW9iyysZt4"
      },
      "source": [
        "# Project - Sequential Models in NLP - Sentiment Classification"
      ]
    },
    {
      "cell_type": "markdown",
      "metadata": {
        "id": "Af9zoNETscYr"
      },
      "source": [
        "### Dataset\r\n",
        "- Dataset of 50,000 movie reviews from IMDB, labeled by sentiment positive (1) or negative (0)\r\n",
        "- Reviews have been preprocessed, and each review is encoded as a sequence of word indexes (integers).\r\n",
        "- For convenience, words are indexed by overall frequency in the dataset, so that for instance the integer \"3\" encodes the 3rd most frequent word in the data. This allows for quick filtering operations such as: \"only consider the top 10,000 most common words, but eliminate the top 20 most common words\".\r\n",
        "- As a convention, \"0\" does not stand for a specific word, but instead is used to encode any unknown word.\r\n",
        "\r\n",
        "Command to import data\r\n",
        "- `from tensorflow.keras.datasets import imdb`"
      ]
    },
    {
      "cell_type": "markdown",
      "metadata": {
        "id": "Q5dWt5uNsgp0"
      },
      "source": [
        "### Import the data (4 Marks)\r\n",
        "- Use `imdb.load_data()` method\r\n",
        "- Get train and test set\r\n",
        "- Take 10000 most frequent words"
      ]
    },
    {
      "cell_type": "code",
      "metadata": {
        "colab": {
          "base_uri": "https://localhost:8080/"
        },
        "id": "emz2EEE1s5IQ",
        "outputId": "69695705-1b57-45eb-e130-1b9f4a605a30"
      },
      "source": [
        "#### Add your code here ####\r\n",
        "from tensorflow.keras.datasets import imdb\r\n",
        "\r\n",
        "max_features = 10000\r\n",
        "\r\n",
        "(X_train, y_train), (X_test, y_test) = imdb.load_data(num_words=max_features)"
      ],
      "execution_count": 1,
      "outputs": [
        {
          "output_type": "stream",
          "text": [
            "Downloading data from https://storage.googleapis.com/tensorflow/tf-keras-datasets/imdb.npz\n",
            "17465344/17464789 [==============================] - 0s 0us/step\n"
          ],
          "name": "stdout"
        },
        {
          "output_type": "stream",
          "text": [
            "<string>:6: VisibleDeprecationWarning: Creating an ndarray from ragged nested sequences (which is a list-or-tuple of lists-or-tuples-or ndarrays with different lengths or shapes) is deprecated. If you meant to do this, you must specify 'dtype=object' when creating the ndarray\n",
            "/usr/local/lib/python3.6/dist-packages/tensorflow/python/keras/datasets/imdb.py:159: VisibleDeprecationWarning: Creating an ndarray from ragged nested sequences (which is a list-or-tuple of lists-or-tuples-or ndarrays with different lengths or shapes) is deprecated. If you meant to do this, you must specify 'dtype=object' when creating the ndarray\n",
            "  x_train, y_train = np.array(xs[:idx]), np.array(labels[:idx])\n",
            "/usr/local/lib/python3.6/dist-packages/tensorflow/python/keras/datasets/imdb.py:160: VisibleDeprecationWarning: Creating an ndarray from ragged nested sequences (which is a list-or-tuple of lists-or-tuples-or ndarrays with different lengths or shapes) is deprecated. If you meant to do this, you must specify 'dtype=object' when creating the ndarray\n",
            "  x_test, y_test = np.array(xs[idx:]), np.array(labels[idx:])\n"
          ],
          "name": "stderr"
        }
      ]
    },
    {
      "cell_type": "code",
      "metadata": {
        "colab": {
          "base_uri": "https://localhost:8080/"
        },
        "id": "hr5k6AJItOhu",
        "outputId": "2b78021a-e0d9-4c60-a3d0-2d6443bb73f1"
      },
      "source": [
        "import numpy as np\r\n",
        "\r\n",
        "data = np.concatenate((X_train, X_test), axis=0)\r\n",
        "targets = np.concatenate((y_train, y_test), axis=0)\r\n",
        "\r\n",
        "print(\"Categories:\", np.unique(targets))\r\n",
        "print(\"Number of unique words:\", len(np.unique(np.hstack(data))))\r\n",
        "\r\n",
        "length = [len(i) for i in data]\r\n",
        "\r\n",
        "print(\"Average Review length:\", np.mean(length))\r\n",
        "print(\"Standard Deviation:\", round(np.std(length)))\r\n"
      ],
      "execution_count": 2,
      "outputs": [
        {
          "output_type": "stream",
          "text": [
            "Categories: [0 1]\n",
            "Number of unique words: 9998\n",
            "Average Review length: 234.75892\n",
            "Standard Deviation: 173\n"
          ],
          "name": "stdout"
        }
      ]
    },
    {
      "cell_type": "code",
      "metadata": {
        "colab": {
          "base_uri": "https://localhost:8080/"
        },
        "id": "LFwyxLyktWo0",
        "outputId": "75b378cb-ce2d-41f3-dd29-ed48dd0ce078"
      },
      "source": [
        "print(\"Label:\", targets[0])\r\n",
        "print(data[0])"
      ],
      "execution_count": 3,
      "outputs": [
        {
          "output_type": "stream",
          "text": [
            "Label: 1\n",
            "[1, 14, 22, 16, 43, 530, 973, 1622, 1385, 65, 458, 4468, 66, 3941, 4, 173, 36, 256, 5, 25, 100, 43, 838, 112, 50, 670, 2, 9, 35, 480, 284, 5, 150, 4, 172, 112, 167, 2, 336, 385, 39, 4, 172, 4536, 1111, 17, 546, 38, 13, 447, 4, 192, 50, 16, 6, 147, 2025, 19, 14, 22, 4, 1920, 4613, 469, 4, 22, 71, 87, 12, 16, 43, 530, 38, 76, 15, 13, 1247, 4, 22, 17, 515, 17, 12, 16, 626, 18, 2, 5, 62, 386, 12, 8, 316, 8, 106, 5, 4, 2223, 5244, 16, 480, 66, 3785, 33, 4, 130, 12, 16, 38, 619, 5, 25, 124, 51, 36, 135, 48, 25, 1415, 33, 6, 22, 12, 215, 28, 77, 52, 5, 14, 407, 16, 82, 2, 8, 4, 107, 117, 5952, 15, 256, 4, 2, 7, 3766, 5, 723, 36, 71, 43, 530, 476, 26, 400, 317, 46, 7, 4, 2, 1029, 13, 104, 88, 4, 381, 15, 297, 98, 32, 2071, 56, 26, 141, 6, 194, 7486, 18, 4, 226, 22, 21, 134, 476, 26, 480, 5, 144, 30, 5535, 18, 51, 36, 28, 224, 92, 25, 104, 4, 226, 65, 16, 38, 1334, 88, 12, 16, 283, 5, 16, 4472, 113, 103, 32, 15, 16, 5345, 19, 178, 32]\n"
          ],
          "name": "stdout"
        }
      ]
    },
    {
      "cell_type": "code",
      "metadata": {
        "colab": {
          "base_uri": "https://localhost:8080/"
        },
        "id": "fo-0R8uHtXu4",
        "outputId": "f03d462d-50be-4889-80d6-c43181047219"
      },
      "source": [
        "print('X_train shape:', X_train.shape)\r\n",
        "print('X_test shape:', X_test.shape)"
      ],
      "execution_count": 4,
      "outputs": [
        {
          "output_type": "stream",
          "text": [
            "X_train shape: (25000,)\n",
            "X_test shape: (25000,)\n"
          ],
          "name": "stdout"
        }
      ]
    },
    {
      "cell_type": "markdown",
      "metadata": {
        "id": "jwLmDtlRtkOF"
      },
      "source": [
        "### Pad each sentence to be of same length (4 Marks)\r\n",
        "- Take maximum sequence length as 300"
      ]
    },
    {
      "cell_type": "code",
      "metadata": {
        "id": "NvdkZVt_tXqQ"
      },
      "source": [
        "#### Add your code here ####\r\n",
        "from tensorflow.keras.preprocessing.sequence import pad_sequences\r\n",
        "maxlen = 300\r\n",
        "X_train = pad_sequences(X_train, maxlen=maxlen)\r\n",
        "X_test = pad_sequences(X_test, maxlen=maxlen)"
      ],
      "execution_count": 5,
      "outputs": []
    },
    {
      "cell_type": "markdown",
      "metadata": {
        "id": "92FjxKxNtoJI"
      },
      "source": [
        "### Print shape of features & labels (4 Marks)\r\n"
      ]
    },
    {
      "cell_type": "markdown",
      "metadata": {
        "id": "tiJ3WS3Vt7HS"
      },
      "source": [
        "Number of review, number of words in each review"
      ]
    },
    {
      "cell_type": "code",
      "metadata": {
        "colab": {
          "base_uri": "https://localhost:8080/"
        },
        "id": "k3zpIrSft77M",
        "outputId": "7b637fb7-be74-42e1-c1ce-6916962bea49"
      },
      "source": [
        "#### Add your code here ####\r\n",
        "print(f\"Number of review: {X_train.shape[0]}\")"
      ],
      "execution_count": 6,
      "outputs": [
        {
          "output_type": "stream",
          "text": [
            "Number of review: 25000\n"
          ],
          "name": "stdout"
        }
      ]
    },
    {
      "cell_type": "code",
      "metadata": {
        "colab": {
          "base_uri": "https://localhost:8080/"
        },
        "id": "gZkUFpBnuCD3",
        "outputId": "8eda60ba-a9c4-4876-e6c4-663324eeca46"
      },
      "source": [
        "print(f\"Number of words in each review: {X_train.shape[1]}\")"
      ],
      "execution_count": 7,
      "outputs": [
        {
          "output_type": "stream",
          "text": [
            "Number of words in each review: 300\n"
          ],
          "name": "stdout"
        }
      ]
    },
    {
      "cell_type": "markdown",
      "metadata": {
        "id": "66ccaLwUuEcP"
      },
      "source": [
        "Number of labels"
      ]
    },
    {
      "cell_type": "code",
      "metadata": {
        "colab": {
          "base_uri": "https://localhost:8080/"
        },
        "id": "1V9zz5iYuH31",
        "outputId": "cf98b24d-ab26-4dd5-cef4-cad6c257015b"
      },
      "source": [
        "#### Add your code here ####\r\n",
        "print(f\"Number of train labels: {y_train.shape}\")"
      ],
      "execution_count": 8,
      "outputs": [
        {
          "output_type": "stream",
          "text": [
            "Number of train labels: (25000,)\n"
          ],
          "name": "stdout"
        }
      ]
    },
    {
      "cell_type": "code",
      "metadata": {
        "colab": {
          "base_uri": "https://localhost:8080/"
        },
        "id": "lM4y4A_vuKVm",
        "outputId": "a10ad584-1426-443a-ebb6-7f0314d47074"
      },
      "source": [
        "#### Add your code here ####\r\n",
        "print(f\"Number of test labels: {y_test.shape}\")"
      ],
      "execution_count": 9,
      "outputs": [
        {
          "output_type": "stream",
          "text": [
            "Number of test labels: (25000,)\n"
          ],
          "name": "stdout"
        }
      ]
    },
    {
      "cell_type": "markdown",
      "metadata": {
        "id": "HAprmTaFuMsD"
      },
      "source": [
        "### Print value of any one feature and it's label (4 Marks)"
      ]
    },
    {
      "cell_type": "markdown",
      "metadata": {
        "id": "wH2kbKrduV7j"
      },
      "source": [
        "Feature value"
      ]
    },
    {
      "cell_type": "code",
      "metadata": {
        "colab": {
          "base_uri": "https://localhost:8080/"
        },
        "id": "ngp95nl2uRk5",
        "outputId": "37c5ef6a-910d-4d09-d943-57c30b57dd89"
      },
      "source": [
        "print('Feature value: ')\r\n",
        "print(data[0])"
      ],
      "execution_count": 10,
      "outputs": [
        {
          "output_type": "stream",
          "text": [
            "Feature value: \n",
            "[1, 14, 22, 16, 43, 530, 973, 1622, 1385, 65, 458, 4468, 66, 3941, 4, 173, 36, 256, 5, 25, 100, 43, 838, 112, 50, 670, 2, 9, 35, 480, 284, 5, 150, 4, 172, 112, 167, 2, 336, 385, 39, 4, 172, 4536, 1111, 17, 546, 38, 13, 447, 4, 192, 50, 16, 6, 147, 2025, 19, 14, 22, 4, 1920, 4613, 469, 4, 22, 71, 87, 12, 16, 43, 530, 38, 76, 15, 13, 1247, 4, 22, 17, 515, 17, 12, 16, 626, 18, 2, 5, 62, 386, 12, 8, 316, 8, 106, 5, 4, 2223, 5244, 16, 480, 66, 3785, 33, 4, 130, 12, 16, 38, 619, 5, 25, 124, 51, 36, 135, 48, 25, 1415, 33, 6, 22, 12, 215, 28, 77, 52, 5, 14, 407, 16, 82, 2, 8, 4, 107, 117, 5952, 15, 256, 4, 2, 7, 3766, 5, 723, 36, 71, 43, 530, 476, 26, 400, 317, 46, 7, 4, 2, 1029, 13, 104, 88, 4, 381, 15, 297, 98, 32, 2071, 56, 26, 141, 6, 194, 7486, 18, 4, 226, 22, 21, 134, 476, 26, 480, 5, 144, 30, 5535, 18, 51, 36, 28, 224, 92, 25, 104, 4, 226, 65, 16, 38, 1334, 88, 12, 16, 283, 5, 16, 4472, 113, 103, 32, 15, 16, 5345, 19, 178, 32]\n"
          ],
          "name": "stdout"
        }
      ]
    },
    {
      "cell_type": "markdown",
      "metadata": {
        "id": "vibB5Sl0uZij"
      },
      "source": [
        "Label value"
      ]
    },
    {
      "cell_type": "code",
      "metadata": {
        "colab": {
          "base_uri": "https://localhost:8080/"
        },
        "id": "luJA2Lihubar",
        "outputId": "86cdf5e7-479e-46fa-cc0e-e9b45d1276f0"
      },
      "source": [
        "print(\"Label:\", targets[0])"
      ],
      "execution_count": 11,
      "outputs": [
        {
          "output_type": "stream",
          "text": [
            "Label: 1\n"
          ],
          "name": "stdout"
        }
      ]
    },
    {
      "cell_type": "markdown",
      "metadata": {
        "id": "KYtCUb07ue8o"
      },
      "source": [
        "### Decode the feature value to get original sentence (4 Marks)"
      ]
    },
    {
      "cell_type": "markdown",
      "metadata": {
        "id": "MZVbkFA3uoYY"
      },
      "source": [
        "\r\n",
        "First, retrieve a dictionary that contains mapping of words to their index in the IMDB dataset"
      ]
    },
    {
      "cell_type": "code",
      "metadata": {
        "colab": {
          "base_uri": "https://localhost:8080/"
        },
        "id": "zYqGmLY3uiOa",
        "outputId": "d743add7-8772-4783-d080-53430098b71e"
      },
      "source": [
        "index = imdb.get_word_index()\r\n",
        "reverse_index = dict([(value, key) for (key, value) in index.items()])"
      ],
      "execution_count": 12,
      "outputs": [
        {
          "output_type": "stream",
          "text": [
            "Downloading data from https://storage.googleapis.com/tensorflow/tf-keras-datasets/imdb_word_index.json\n",
            "1646592/1641221 [==============================] - 0s 0us/step\n"
          ],
          "name": "stdout"
        }
      ]
    },
    {
      "cell_type": "markdown",
      "metadata": {
        "id": "VUXus8dF7YY0"
      },
      "source": [
        "Now use the dictionary to get the original words from the encodings, for a particular sentence"
      ]
    },
    {
      "cell_type": "code",
      "metadata": {
        "colab": {
          "base_uri": "https://localhost:8080/"
        },
        "id": "rEZ2EH957gSE",
        "outputId": "57b7a377-aa25-4be6-c3ba-57bba54dc009"
      },
      "source": [
        "# Retrieve the dictionary mapping word indices back into the original words so that we can read them. We replace every unknown word with a “#”.\r\n",
        "decoded = \" \".join( [reverse_index.get(i - 3, \"#\") for i in data[0]] )\r\n",
        "print(decoded)"
      ],
      "execution_count": 13,
      "outputs": [
        {
          "output_type": "stream",
          "text": [
            "# this film was just brilliant casting location scenery story direction everyone's really suited the part they played and you could just imagine being there robert # is an amazing actor and now the same being director # father came from the same scottish island as myself so i loved the fact there was a real connection with this film the witty remarks throughout the film were great it was just brilliant so much that i bought the film as soon as it was released for # and would recommend it to everyone to watch and the fly fishing was amazing really cried at the end it was so sad and you know what they say if you cry at a film it must have been good and this definitely was also # to the two little boy's that played the # of norman and paul they were just brilliant children are often left out of the # list i think because the stars that play them all grown up are such a big profile for the whole film but these children are amazing and should be praised for what they have done don't you think the whole story was so lovely because it was true and was someone's life after all that was shared with us all\n"
          ],
          "name": "stdout"
        }
      ]
    },
    {
      "cell_type": "markdown",
      "metadata": {
        "id": "DRkxcWYA7hM4"
      },
      "source": [
        "Get the sentiment for the above sentence\r\n",
        "- positive (1)\r\n",
        "- negative (0)"
      ]
    },
    {
      "cell_type": "code",
      "metadata": {
        "colab": {
          "base_uri": "https://localhost:8080/"
        },
        "id": "EA5D-VRJ7kRZ",
        "outputId": "6da6ded4-4b5e-4744-d53d-6ce2af362341"
      },
      "source": [
        "#### Add your code here ####\r\n",
        "if targets[0] == 1:\r\n",
        "    print(\"Positive (1)\")\r\n",
        "else:\r\n",
        "    print(\"Negative (0)\")"
      ],
      "execution_count": 14,
      "outputs": [
        {
          "output_type": "stream",
          "text": [
            "Positive (1)\n"
          ],
          "name": "stdout"
        }
      ]
    },
    {
      "cell_type": "markdown",
      "metadata": {
        "id": "fjAWUnEA7qix"
      },
      "source": [
        "### Define model (10 Marks)\r\n",
        "- Define a Sequential Model\r\n",
        "- Add Embedding layer\r\n",
        "  - Embedding layer turns positive integers into dense vectors of fixed size\r\n",
        "  - `tensorflow.keras` embedding layer doesn't require us to onehot encode our words, instead we have to give each word a unique integer number as an id. For the imdb dataset we've loaded this has already been done, but if this wasn't the case we could use sklearn LabelEncoder.\r\n",
        "  - Size of the vocabulary will be 10000\r\n",
        "  - Give dimension of the dense embedding as 100\r\n",
        "  - Length of input sequences should be 300\r\n",
        "- Add LSTM layer\r\n",
        "  - Pass value in `return_sequences` as True\r\n",
        "- Add a `TimeDistributed` layer with 100 Dense neurons\r\n",
        "- Add Flatten layer\r\n",
        "- Add Dense layer"
      ]
    },
    {
      "cell_type": "code",
      "metadata": {
        "id": "Q-s_OPUx89CV"
      },
      "source": [
        "#### Add your code here ####\r\n",
        "from tensorflow.keras.models import Model\r\n",
        "from tensorflow.keras.layers import LSTM, Embedding, Dense, TimeDistributed, Dropout, Bidirectional, Input, Flatten\r\n",
        "from tensorflow.keras.models import Sequential"
      ],
      "execution_count": 15,
      "outputs": []
    },
    {
      "cell_type": "code",
      "metadata": {
        "id": "orqt1XfG8_B-"
      },
      "source": [
        "model = Sequential()\r\n",
        "model.add(Embedding(input_dim=max_features, output_dim=100, input_length=maxlen))\r\n",
        "model.add(LSTM(100, return_sequences=True))\r\n",
        "model.add(Flatten())\r\n",
        "model.add(Dense(1, activation='sigmoid'))"
      ],
      "execution_count": 16,
      "outputs": []
    },
    {
      "cell_type": "markdown",
      "metadata": {
        "id": "qLtnOL7H9LKU"
      },
      "source": [
        "### Compile the model (4 Marks)\r\n",
        "- Use Optimizer as Adam\r\n",
        "- Use Binary Crossentropy as loss\r\n",
        "- Use Accuracy as metrics"
      ]
    },
    {
      "cell_type": "code",
      "metadata": {
        "id": "4nxARo_E9C5n"
      },
      "source": [
        "#### Add your code here ####\r\n",
        "model.compile(loss='binary_crossentropy', optimizer='adam', metrics=['accuracy'])"
      ],
      "execution_count": 17,
      "outputs": []
    },
    {
      "cell_type": "markdown",
      "metadata": {
        "id": "H5BxzeJm9XYf"
      },
      "source": [
        "### Print model summary (4 Marks)"
      ]
    },
    {
      "cell_type": "code",
      "metadata": {
        "colab": {
          "base_uri": "https://localhost:8080/"
        },
        "id": "RBOboCON9aJG",
        "outputId": "a9a5a82c-35f6-4bcd-f136-ebfd9ece67ad"
      },
      "source": [
        "#### Add your code here ####\r\n",
        "model.summary()"
      ],
      "execution_count": 18,
      "outputs": [
        {
          "output_type": "stream",
          "text": [
            "Model: \"sequential\"\n",
            "_________________________________________________________________\n",
            "Layer (type)                 Output Shape              Param #   \n",
            "=================================================================\n",
            "embedding (Embedding)        (None, 300, 100)          1000000   \n",
            "_________________________________________________________________\n",
            "lstm (LSTM)                  (None, 300, 100)          80400     \n",
            "_________________________________________________________________\n",
            "flatten (Flatten)            (None, 30000)             0         \n",
            "_________________________________________________________________\n",
            "dense (Dense)                (None, 1)                 30001     \n",
            "=================================================================\n",
            "Total params: 1,110,401\n",
            "Trainable params: 1,110,401\n",
            "Non-trainable params: 0\n",
            "_________________________________________________________________\n"
          ],
          "name": "stdout"
        }
      ]
    },
    {
      "cell_type": "markdown",
      "metadata": {
        "id": "SvtzcE9V9cry"
      },
      "source": [
        "### Fit the model (4 Marks)"
      ]
    },
    {
      "cell_type": "code",
      "metadata": {
        "colab": {
          "base_uri": "https://localhost:8080/"
        },
        "id": "jakJf8Dg4egM",
        "outputId": "d822af66-5f99-4d70-bad7-f73c8dff3062"
      },
      "source": [
        "#### Add your code here ####\r\n",
        "model.fit(X_train, y_train, batch_size=32, epochs=10, validation_data=(X_test, y_test))"
      ],
      "execution_count": 19,
      "outputs": [
        {
          "output_type": "stream",
          "text": [
            "Epoch 1/10\n",
            "782/782 [==============================] - 31s 29ms/step - loss: 0.4379 - accuracy: 0.7696 - val_loss: 0.2857 - val_accuracy: 0.8803\n",
            "Epoch 2/10\n",
            "782/782 [==============================] - 22s 29ms/step - loss: 0.1728 - accuracy: 0.9352 - val_loss: 0.2861 - val_accuracy: 0.8846\n",
            "Epoch 3/10\n",
            "782/782 [==============================] - 23s 29ms/step - loss: 0.0715 - accuracy: 0.9750 - val_loss: 0.3674 - val_accuracy: 0.8723\n",
            "Epoch 4/10\n",
            "782/782 [==============================] - 23s 29ms/step - loss: 0.0254 - accuracy: 0.9924 - val_loss: 0.5651 - val_accuracy: 0.8702\n",
            "Epoch 5/10\n",
            "782/782 [==============================] - 22s 29ms/step - loss: 0.0076 - accuracy: 0.9981 - val_loss: 0.6136 - val_accuracy: 0.8709\n",
            "Epoch 6/10\n",
            "782/782 [==============================] - 23s 29ms/step - loss: 0.0064 - accuracy: 0.9983 - val_loss: 0.7642 - val_accuracy: 0.8597\n",
            "Epoch 7/10\n",
            "782/782 [==============================] - 23s 29ms/step - loss: 0.0116 - accuracy: 0.9961 - val_loss: 0.7497 - val_accuracy: 0.8618\n",
            "Epoch 8/10\n",
            "782/782 [==============================] - 22s 29ms/step - loss: 0.0061 - accuracy: 0.9982 - val_loss: 0.8175 - val_accuracy: 0.8714\n",
            "Epoch 9/10\n",
            "782/782 [==============================] - 23s 29ms/step - loss: 0.0056 - accuracy: 0.9984 - val_loss: 0.7960 - val_accuracy: 0.8633\n",
            "Epoch 10/10\n",
            "782/782 [==============================] - 23s 29ms/step - loss: 0.0050 - accuracy: 0.9985 - val_loss: 0.8156 - val_accuracy: 0.8662\n"
          ],
          "name": "stdout"
        },
        {
          "output_type": "execute_result",
          "data": {
            "text/plain": [
              "<tensorflow.python.keras.callbacks.History at 0x7eff601dfda0>"
            ]
          },
          "metadata": {
            "tags": []
          },
          "execution_count": 19
        }
      ]
    },
    {
      "cell_type": "markdown",
      "metadata": {
        "id": "XL7w2Yt24jhc"
      },
      "source": [
        "### Evaluate model (4 Marks)"
      ]
    },
    {
      "cell_type": "code",
      "metadata": {
        "colab": {
          "base_uri": "https://localhost:8080/"
        },
        "id": "-XGikZRu4uQ3",
        "outputId": "328c94a9-3a9b-495a-de7a-468f1f6ff3a4"
      },
      "source": [
        "#### Add your code here ####\r\n",
        "score, acc = model.evaluate(X_test, y_test, batch_size=32)\r\n",
        "print(f'Test accuracy: {round((acc*100), 2)} %')"
      ],
      "execution_count": 20,
      "outputs": [
        {
          "output_type": "stream",
          "text": [
            "782/782 [==============================] - 5s 7ms/step - loss: 0.8156 - accuracy: 0.8662\n",
            "Test accuracy: 86.62 %\n"
          ],
          "name": "stdout"
        }
      ]
    },
    {
      "cell_type": "markdown",
      "metadata": {
        "id": "HUaKqLak4xGG"
      },
      "source": [
        "### Predict on one sample (4 Marks)"
      ]
    },
    {
      "cell_type": "code",
      "metadata": {
        "colab": {
          "base_uri": "https://localhost:8080/"
        },
        "id": "AXekMNLF44NP",
        "outputId": "c18e00ba-6b17-47cc-cd18-5f04ba11d9ae"
      },
      "source": [
        "#### Add your code here ####\r\n",
        "\r\n",
        "new_prediction = model.predict(np.expand_dims(X_test[10], axis=0))\r\n",
        "\r\n",
        "if y_test[10] == 1:\r\n",
        "    print(\"Actual: Positive (1)\")\r\n",
        "else:\r\n",
        "    print(\"Actual: Negative (0)\")\r\n",
        "\r\n",
        "if new_prediction > 0.5:\r\n",
        "    print(\"Predicted: Positive (1)\")\r\n",
        "else:\r\n",
        "    print(\"Predicted: Negative (0)\")"
      ],
      "execution_count": 21,
      "outputs": [
        {
          "output_type": "stream",
          "text": [
            "Actual: Positive (1)\n",
            "Predicted: Positive (1)\n"
          ],
          "name": "stdout"
        }
      ]
    }
  ]
}